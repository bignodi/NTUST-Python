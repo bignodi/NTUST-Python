{
 "cells": [
  {
   "cell_type": "code",
   "execution_count": 2,
   "metadata": {},
   "outputs": [
    {
     "name": "stdout",
     "output_type": "stream",
     "text": [
      "[80, 75, 65, 99, 42, 100, 80, 72]\n",
      "<class 'list'>\n",
      "65\n",
      "72\n",
      "**************************************************\n",
      "[80, 75, 65, 99, 42, 100, 80, 72, 100]\n",
      "[80, 75, 65, 99, 42, 100, 80, 72, 100, 200, 300]\n",
      "[80, 75, 99, 42, 100, 80, 72, 100, 200, 300]\n",
      "**************************************************\n",
      "[80, 75, 99, 42, 100, 80, 72, 100, 200, 300]\n",
      "[80, 75, 99, 42]\n",
      "[99, 42, 100, 80, 72]\n",
      "**************************************************\n",
      "75在位置1\n",
      "0\n"
     ]
    }
   ],
   "source": [
    "scores = [80,75,65,99,42,100,80,72]\n",
    "print(scores)\n",
    "print(type(scores))\n",
    "print(scores[2])\n",
    "print(scores[-1])\n",
    "\n",
    "print(\"*\"*50)\n",
    "## list 常用操作\n",
    "scores.append(100)\n",
    "print(scores)\n",
    "scores.extend([200,300])\n",
    "print(scores)\n",
    "\n",
    "scores.pop(2)  ## remove 65 (第三個元)\n",
    "print(scores)\n",
    "\n",
    "print(\"*\"*50)\n",
    "\n",
    "print(scores)\n",
    "print(scores[0:4]) ## 取到第四位\n",
    "print(scores[2:7]) ## 取第三位到第六位\n",
    "\n",
    "print(\"*\"*50)\n",
    "#print(type(scores.index(75)))\n",
    "print(\"75在位置\" + str(scores.index(75)))\n",
    "print(scores.index(80)) ## 重覆值只顯示第一個index值\n",
    "## print(scores.index(123)) ## ValueError: 123 is not in list\n",
    "\n",
    "\n",
    "\n"
   ]
  },
  {
   "cell_type": "code",
   "execution_count": 3,
   "metadata": {},
   "outputs": [
    {
     "name": "stdout",
     "output_type": "stream",
     "text": [
      "[123, [2, 3, 4], True, 'a', 'b']\n",
      "a,b,c,d,e\n",
      "a__b__c__d__e\n"
     ]
    }
   ],
   "source": [
    "## 混合字陣列 list\n",
    "test = [123, [2,3,4], True, \"a\", \"b\"]\n",
    "print(test)\n",
    "\n",
    "test2 = [\"a\",\"b\",\"c\",\"d\",\"e\"]\n",
    "print(\",\".join(test2))\n",
    "print(\"__\".join(test2))"
   ]
  },
  {
   "cell_type": "code",
   "execution_count": 4,
   "metadata": {},
   "outputs": [
    {
     "name": "stdout",
     "output_type": "stream",
     "text": [
      "SUM: 710\n",
      "AVG: 78.88888888888889\n"
     ]
    }
   ],
   "source": [
    "#scores = [80,75,65,99,42,100,80,72]\n",
    "scores = [80,75,65,99,42,100,80,72,97]\n",
    "\n",
    "\n",
    "SUM = sum(scores)\n",
    "AVG = SUM / len(scores)\n",
    "\n",
    "print(\"SUM:\" , SUM )\n",
    "print(\"AVG:\" , AVG )"
   ]
  },
  {
   "cell_type": "code",
   "execution_count": 5,
   "metadata": {},
   "outputs": [
    {
     "name": "stdout",
     "output_type": "stream",
     "text": [
      "{'Jeff': 80, 'Leo': 75, 'Keven': 65}\n",
      "Jeff的值為: 80\n",
      "{'Jeff': 90, 'Leo': 75, 'Keven': 65, 'Steve': 100}\n",
      "==================================================\n",
      "True\n",
      "False\n",
      "==================================================\n",
      "Keys : dict_keys(['Jeff', 'Leo', 'Keven', 'Steve'])\n",
      "<class 'dict'>\n",
      "<class 'dict_keys'>\n",
      "['Jeff', 'Leo', 'Keven', 'Steve']\n",
      "<class 'list'>\n"
     ]
    }
   ],
   "source": [
    "## Dict - (key(str type)-value(any type) pair)\n",
    "\n",
    "scoresDict = {\n",
    "    \"Jeff\":80,\n",
    "    \"Leo\":75,\n",
    "    \"Keven\":65\n",
    "}\n",
    "\n",
    "print(scoresDict)\n",
    "\n",
    "print(\"Jeff的值為:\", scoresDict[\"Jeff\"])\n",
    "\n",
    "scoresDict[\"Jeff\"] = 90     ##改既有值\n",
    "scoresDict[\"Steve\"] = 100   ##新增 Key值\n",
    "print(scoresDict)\n",
    "\n",
    "print(\"=\"*50)\n",
    "## 查看值是否存在 Dictionary\n",
    "print(\"Jeff\" in scoresDict)\n",
    "print(\"Apple\" in scoresDict)\n",
    "\n",
    "\n",
    "print(\"=\"*50)\n",
    "## Dictionary Keys\n",
    "print(\"Keys :\", scoresDict.keys())\n",
    "\n",
    "print(type(scoresDict))         ## scoreDict 型別為dictionary\n",
    "print(type(scoresDict.keys()))  ## scoreDict的 key值型別為dict_keys\n",
    "print(list(scoresDict.keys()))  ## 將 scoreDict 轉存為 list 型別\n",
    "print(type( list(scoresDict.keys()) ) )"
   ]
  },
  {
   "cell_type": "code",
   "execution_count": 6,
   "metadata": {},
   "outputs": [
    {
     "name": "stdout",
     "output_type": "stream",
     "text": [
      "dict_values([80, 75, 65, 99, 42, 100, 80, 72, 97])\n",
      "9\n",
      "SUM: 710\n",
      "AVG: 78.88888888888889\n"
     ]
    }
   ],
   "source": [
    "## Dict\n",
    "\n",
    "scoresDict = {\n",
    "    \"Jeff\":80,\n",
    "    \"Leo\":75,\n",
    "    \"Keven\":65,\n",
    "    \"Steve\":99,\n",
    "    \"Apple\":42,\n",
    "    \"Elle\":100,\n",
    "    \"Jenny\":80,\n",
    "    \"Julia\":72,\n",
    "    \"Benson\":97\n",
    "    \n",
    "}\n",
    "\n",
    "print(scoresDict.values())\n",
    "print(len(scoresDict))\n",
    "\n",
    "SUM = sum(scoresDict.values())\n",
    "AVG = SUM / len(scoresDict)\n",
    "\n",
    "print(\"SUM:\", SUM)\n",
    "print(\"AVG:\", AVG)"
   ]
  },
  {
   "cell_type": "code",
   "execution_count": 7,
   "metadata": {},
   "outputs": [
    {
     "name": "stdout",
     "output_type": "stream",
     "text": [
      "<class 'set'>\n",
      "<class 'set'>\n",
      "<class 'list'>\n",
      "[1, 2, 3, 4, 5, 6, 8, 4, 2, 32, 1, 3, 2, 3]\n",
      "{32, 1, 2, 3, 4, 5, 6, 8}\n",
      "**************************************************\n",
      "{4, 5, 6}\n",
      "{1, 2, 3, 4, 5, 6, 7, 8}\n"
     ]
    }
   ],
   "source": [
    "###### 迴圈\n",
    "## set 重複值過濾\n",
    "\n",
    "s1 = {1,2,3,4,5,6}\n",
    "s2 = {4,5,6,7,8}\n",
    "\n",
    "print(type(s1))\n",
    "print(type(s2))\n",
    "\n",
    "s3 = [1,2,3,4,5,6,8,4,2,32,1,3,2,3]\n",
    "print(type(s3))\n",
    "print(s3)\n",
    "print( set(s3) )\n",
    "\n",
    "print(\"*\"*50)\n",
    "## 交集運算\n",
    "print(s1 & s2)\n",
    "\n",
    "## 聯集運算\n",
    "print(s1 | s2)\n",
    "\n",
    "## 建議不要把 list中包 list 的資料拿來做 set運算, 會有問題\n"
   ]
  },
  {
   "cell_type": "code",
   "execution_count": 8,
   "metadata": {},
   "outputs": [
    {
     "name": "stdout",
     "output_type": "stream",
     "text": [
      "Scores:  80\n",
      "ScoreSum:  80\n",
      "--------------------------------------------------\n",
      "Scores:  75\n",
      "ScoreSum:  155\n",
      "--------------------------------------------------\n",
      "Scores:  65\n",
      "ScoreSum:  220\n",
      "--------------------------------------------------\n",
      "Scores:  99\n",
      "ScoreSum:  319\n",
      "--------------------------------------------------\n",
      "Scores:  42\n",
      "ScoreSum:  361\n",
      "--------------------------------------------------\n",
      "Scores:  100\n",
      "ScoreSum:  461\n",
      "--------------------------------------------------\n",
      "Scores:  80\n",
      "ScoreSum:  541\n",
      "--------------------------------------------------\n",
      "Scores:  72\n",
      "ScoreSum:  613\n",
      "--------------------------------------------------\n",
      "Sum: 613\n"
     ]
    }
   ],
   "source": [
    "scores = [80,75,65,99,42,100,80,72]\n",
    "#print(scores[0])\n",
    "#print(scores[1])\n",
    "#print(scores[2])\n",
    "#print(scores[3])\n",
    "\n",
    "scoreSum = 0\n",
    "\n",
    "for num in scores:\n",
    "    print(\"Scores: \", num)\n",
    "    scoreSum = scoreSum + num\n",
    "    #scoreSum+=num\n",
    "    print(\"ScoreSum: \", scoreSum)\n",
    "    print(\"-\"*50)\n",
    "    \n",
    "print(\"Sum:\",scoreSum)"
   ]
  },
  {
   "cell_type": "code",
   "execution_count": 11,
   "metadata": {},
   "outputs": [
    {
     "name": "stdout",
     "output_type": "stream",
     "text": [
      "0\n",
      "1\n",
      "2\n",
      "3\n",
      "4\n",
      "Done!\n",
      "5\n"
     ]
    }
   ],
   "source": [
    "#for i in [1,2,3,4,5]:\n",
    "#    print(i)\n",
    "    \n",
    "cnt = 0    \n",
    "while cnt<5:\n",
    "    print(cnt)\n",
    "    #cnt = cnt + 1\n",
    "    cnt+=1\n",
    "    \n",
    "print(\"Done!\")\n",
    "print(cnt)"
   ]
  },
  {
   "cell_type": "code",
   "execution_count": 14,
   "metadata": {},
   "outputs": [
    {
     "name": "stdout",
     "output_type": "stream",
     "text": [
      "Jeff\n",
      "Leo\n",
      "Keven\n",
      "Steve\n",
      "Apple\n",
      "Elle\n",
      "Jenny\n",
      "Julia\n",
      "Benson\n",
      "==================================================\n",
      "T\n",
      "h\n",
      "i\n",
      "s\n",
      " \n",
      "i\n",
      "s\n",
      " \n",
      "a\n",
      " \n",
      "b\n",
      "o\n",
      "o\n",
      "k\n",
      ".\n"
     ]
    }
   ],
   "source": [
    "\n",
    "## dictonary \n",
    "scoresDict = {\n",
    "    \"Jeff\":80,\n",
    "    \"Leo\":75,\n",
    "    \"Keven\":65,\n",
    "    \"Steve\":99,\n",
    "    \"Apple\":42,\n",
    "    \"Elle\":100,\n",
    "    \"Jenny\":80,\n",
    "    \"Julia\":72,\n",
    "    \"Benson\":97   \n",
    "}\n",
    "\n",
    "for ele in scoresDict:\n",
    "    print(ele)   ## 列印key值\n",
    "\n",
    "print(\"=\"*50)\n",
    "## 字元\n",
    "scoresWord = \"This is a book.\"\n",
    "for ele in scoresWord:\n",
    "    print(ele)\n"
   ]
  },
  {
   "cell_type": "code",
   "execution_count": 19,
   "metadata": {},
   "outputs": [
    {
     "name": "stdout",
     "output_type": "stream",
     "text": [
      "Jeff\n",
      "Leo\n",
      "Keven\n",
      "Steve\n",
      "Apple\n",
      "Elle\n",
      "Jenny\n",
      "Julia\n",
      "Benson\n",
      "Name :  Jeff\n",
      "Score :  80\n",
      "==================================================\n",
      "Name :  Leo\n",
      "Score :  75\n",
      "==================================================\n",
      "Name :  Keven\n",
      "Score :  65\n",
      "==================================================\n",
      "Name :  Steve\n",
      "Score :  99\n",
      "==================================================\n",
      "Name :  Apple\n",
      "Score :  42\n",
      "==================================================\n",
      "Name :  Elle\n",
      "Score :  100\n",
      "==================================================\n",
      "Name :  Jenny\n",
      "Score :  80\n",
      "==================================================\n",
      "Name :  Julia\n",
      "Score :  72\n",
      "==================================================\n",
      "Name :  Benson\n",
      "Score :  97\n",
      "==================================================\n",
      "Name: Jeff\n",
      "Score: 80\n",
      "--------------------------------------------------\n",
      "Name: Leo\n",
      "Score: 75\n",
      "--------------------------------------------------\n",
      "Name: Keven\n",
      "Score: 65\n",
      "--------------------------------------------------\n"
     ]
    }
   ],
   "source": [
    "## list : 只有存成績\n",
    "scores  = [80,75,65,99,42,100,80,72]\n",
    "\n",
    "## dictonary: 可存名字及成績\n",
    "scoresDict = {\n",
    "    \"Jeff\":80,\n",
    "    \"Leo\":75,\n",
    "    \"Keven\":65,\n",
    "    \"Steve\":99,\n",
    "    \"Apple\":42,\n",
    "    \"Elle\":100,\n",
    "    \"Jenny\":80,\n",
    "    \"Julia\":72,\n",
    "    \"Benson\":97   \n",
    "}\n",
    "\n",
    "\n",
    "## 只叫得出成績\n",
    "for k in scoresDict:\n",
    "    print(k)\n",
    "\n",
    "## 可以同時叫出key 和value\n",
    "for k in scoresDict:\n",
    "    print(\"Name : \", k )\n",
    "    print(\"Score : \", scoresDict[k])\n",
    "    # 等同下面\n",
    "    #print(\"Score : \", scoresDict[\"Jeff\"])\n",
    "    #print(\"Score : \", scoresDict[\"Leo\"])\n",
    "    print(\"=\"*50)\n",
    "    \n",
    "\n",
    "## 一個list 可同時存放統一的name/score值\n",
    "## 可以同時叫出key 和value\n",
    "\n",
    "scoreData = [\n",
    "    {\"name\" : \"Jeff\" , \"score\" : 80 },\n",
    "    {\"name\" : \"Leo\" , \"score\" : 75  },\n",
    "    {\"name\" : \"Keven\" , \"score\" : 65 }\n",
    "    \n",
    "]\n",
    "\n",
    "for ele in scoreData:\n",
    "    print(\"Name:\", ele[\"name\"])\n",
    "    print(\"Score:\", ele[\"score\"])\n",
    "    print(\"-\"*50)\n",
    "    \n",
    "    \n",
    "\n",
    "## Javascript\n",
    "# for(var i=0; i<scores.length; i++) {}\n",
    "#    console.log(scores[i])\n",
    "# }\n"
   ]
  },
  {
   "cell_type": "code",
   "execution_count": 23,
   "metadata": {},
   "outputs": [
    {
     "name": "stdout",
     "output_type": "stream",
     "text": [
      "**************************************************\n",
      "Get ERROR !!!\n",
      "**************************************************\n",
      "This is a book.\n"
     ]
    }
   ],
   "source": [
    "## try except\n",
    "\n",
    "A = 12\n",
    "B = 26\n",
    "C = 0\n",
    "\n",
    "## print(A/B)\n",
    "## print(A/C)    #ZeroDivisionError: division by zero\n",
    "## print(\"This is a book.\")  ## 因前面的錯誤就不會執行了\n",
    "\n",
    "\n",
    "try:\n",
    "    print(A/C)    #ZeroDivisionError: division by zero\n",
    "except:\n",
    "    print(\"*\"*50)\n",
    "    print(\"Get ERROR !!!\") ## 但不知道是什麼error\n",
    "    print(\"*\"*50)\n",
    "    \n",
    "print(\"This is a book.\")  \n",
    "\n"
   ]
  },
  {
   "cell_type": "code",
   "execution_count": 26,
   "metadata": {},
   "outputs": [
    {
     "name": "stdout",
     "output_type": "stream",
     "text": [
      "**************************************************\n",
      "Get ERROR !!!\n",
      "**************************************************\n",
      "This is a book.\n"
     ]
    },
    {
     "name": "stderr",
     "output_type": "stream",
     "text": [
      "Traceback (most recent call last):\n",
      "  File \"<ipython-input-26-8f2f6d7c0593>\", line 10, in <module>\n",
      "    print(A/C)    #ZeroDivisionError: division by zero\n",
      "ZeroDivisionError: division by zero\n"
     ]
    }
   ],
   "source": [
    "## try except\n",
    "\n",
    "import traceback\n",
    "A = 12\n",
    "B = 26\n",
    "C = 0\n",
    "\n",
    "\n",
    "try:\n",
    "    print(A/C)    #ZeroDivisionError: division by zero\n",
    "except:\n",
    "    print(\"*\"*50)\n",
    "    print(\"Get ERROR !!!\") \n",
    "    traceback.print_exc()\n",
    "    print(\"*\"*50)\n",
    "    \n",
    "print(\"This is a book.\")  \n"
   ]
  }
 ],
 "metadata": {
  "kernelspec": {
   "display_name": "Python 3",
   "language": "python",
   "name": "python3"
  },
  "language_info": {
   "codemirror_mode": {
    "name": "ipython",
    "version": 3
   },
   "file_extension": ".py",
   "mimetype": "text/x-python",
   "name": "python",
   "nbconvert_exporter": "python",
   "pygments_lexer": "ipython3",
   "version": "3.6.5"
  }
 },
 "nbformat": 4,
 "nbformat_minor": 2
}
