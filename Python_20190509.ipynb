{
 "cells": [
  {
   "cell_type": "code",
   "execution_count": 2,
   "metadata": {},
   "outputs": [],
   "source": [
    "## file\n",
    "## 未加encode 會出現錯誤\n",
    "##UnicodeDecodeError: 'cp950' codec can't decode byte 0x93 in position 4: illegal multibyte sequence\n",
    "\n",
    "#f = open(\"sample.csv\", mode=\"r\")    \n",
    "#data = f.readlines()\n",
    "#f.close()\n",
    "\n",
    "\n",
    "f = open(\"sample.csv\", mode=\"r\", encoding=\"UTF-8\")    \n",
    "data = f.readlines()\n",
    "f.close()\n"
   ]
  },
  {
   "cell_type": "code",
   "execution_count": 22,
   "metadata": {},
   "outputs": [
    {
     "name": "stdout",
     "output_type": "stream",
     "text": [
      "['貨品分類,中文貨名,英文貨名,國家,數量,數量單位,重量,重量單位,價值\\n', '3032300007,冷凍吳郭魚,\" Tilapias, frozen\",巴林,0,-   ,8000,KGM ,411\\n', '3032300007,冷凍吳郭魚,\" Tilapias, frozen\",日本,0,-   ,10800,KGM ,696\\n', '3032300007,冷凍吳郭魚,\" Tilapias, frozen\",加拿大,0,-   ,108631,KGM ,7365\\n', '3032300007,冷凍吳郭魚,\" Tilapias, frozen\",沙烏地阿拉伯,0,-   ,503000,KGM ,24919\\n', '3032300007,冷凍吳郭魚,\" Tilapias, frozen\",其他大洋洲國家,0,-   ,11695,KGM ,729\\n', '3032300007,冷凍吳郭魚,\" Tilapias, frozen\",阿拉伯聯合大公國,0,-   ,29000,KGM ,1274\\n', '3032300007,冷凍吳郭魚,\" Tilapias, frozen\",科威特,0,-   ,121536,KGM ,6128\\n', '3032300007,冷凍吳郭魚,\" Tilapias, frozen\",美國,0,-   ,749982,KGM ,46022\\n', '3032300007,冷凍吳郭魚,\" Tilapias, frozen\",香港,0,-   ,72,KGM ,2\\n', '3032300007,冷凍吳郭魚,\" Tilapias, frozen\",澳大利亞,0,-   ,69570,KGM ,4786\\n', '3032300007,冷凍吳郭魚,\" Tilapias, frozen\",關島,0,-   ,8618,KGM ,458\\n', '12019000104,黑豆，不論是否破碎,\" Black soybeans, whether or not broken\",加拿大,0,-   ,0,TNE ,43\\n', '12019000104,黑豆，不論是否破碎,\" Black soybeans, whether or not broken\",美國,0,-   ,0,TNE ,9\\n', '12019000104,黑豆，不論是否破碎,\" Black soybeans, whether or not broken\",菲律賓,0,-   ,0,TNE ,6\\n', '52114200005,牛仔布, Denim,中國大陸,11398,MTK ,1991,KGM ,902\\n', '52114200005,牛仔布, Denim,日本,14364,MTK ,3898,KGM ,1596\\n', '52114200005,牛仔布, Denim,印尼,21998,MTK ,3869,KGM ,1543\\n', '52114200005,牛仔布, Denim,印度,7212,MTK ,2185,KGM ,513\\n', '52114200005,牛仔布, Denim,柬埔寨,28081,MTK ,9915,KGM ,2469\\n', '52114200005,牛仔布, Denim,馬來西亞,8925,MTK ,3598,KGM ,575\\n', '52114200005,牛仔布, Denim,越南,139191,MTK ,53225,KGM ,12330\\n', '52114200005,牛仔布, Denim,賴索托,6894,MTK ,2771,KGM ,435']\n"
     ]
    }
   ],
   "source": [
    "f = open(\"sample.csv\", mode=\"r\", encoding=\"UTF-8\")\n",
    "data = f.readlines()\n",
    "print(data)\n",
    "f.close()"
   ]
  },
  {
   "cell_type": "code",
   "execution_count": 20,
   "metadata": {},
   "outputs": [
    {
     "ename": "IndexError",
     "evalue": "list index out of range",
     "output_type": "error",
     "traceback": [
      "\u001b[1;31m---------------------------------------------------------------------------\u001b[0m",
      "\u001b[1;31mIndexError\u001b[0m                                Traceback (most recent call last)",
      "\u001b[1;32m<ipython-input-20-c72b3e794e58>\u001b[0m in \u001b[0;36m<module>\u001b[1;34m()\u001b[0m\n\u001b[0;32m      6\u001b[0m \u001b[1;32mfor\u001b[0m \u001b[0mline\u001b[0m \u001b[1;32min\u001b[0m \u001b[0mdata\u001b[0m\u001b[1;33m:\u001b[0m\u001b[1;33m\u001b[0m\u001b[0m\n\u001b[0;32m      7\u001b[0m     \u001b[0mcategoryNo\u001b[0m \u001b[1;33m=\u001b[0m \u001b[0mline\u001b[0m\u001b[1;33m.\u001b[0m\u001b[0msplit\u001b[0m\u001b[1;33m(\u001b[0m\u001b[1;34m\",\"\u001b[0m\u001b[1;33m)\u001b[0m\u001b[1;33m[\u001b[0m\u001b[1;36m0\u001b[0m\u001b[1;33m]\u001b[0m\u001b[1;33m\u001b[0m\u001b[0m\n\u001b[1;32m----> 8\u001b[1;33m     \u001b[0mname\u001b[0m \u001b[1;33m=\u001b[0m \u001b[0mline\u001b[0m\u001b[1;33m.\u001b[0m\u001b[0msplit\u001b[0m\u001b[1;33m(\u001b[0m\u001b[1;34m\",\"\u001b[0m\u001b[1;33m)\u001b[0m\u001b[1;33m[\u001b[0m\u001b[1;36m1\u001b[0m\u001b[1;33m]\u001b[0m\u001b[1;33m\u001b[0m\u001b[0m\n\u001b[0m\u001b[0;32m      9\u001b[0m     \u001b[1;31m#country = line.split(\",\")[2]\u001b[0m\u001b[1;33m\u001b[0m\u001b[1;33m\u001b[0m\u001b[0m\n\u001b[0;32m     10\u001b[0m     \u001b[0mprint\u001b[0m\u001b[1;33m(\u001b[0m\u001b[0mcategoryNo\u001b[0m\u001b[1;33m,\u001b[0m\u001b[0mname\u001b[0m\u001b[1;33m)\u001b[0m\u001b[1;33m\u001b[0m\u001b[0m\n",
      "\u001b[1;31mIndexError\u001b[0m: list index out of range"
     ]
    }
   ],
   "source": [
    "## 一次讀一行, 去頭尾空白\n",
    "#for line in data:\n",
    "#    print(line.strip())\n",
    "\n",
    "## 一次讀一行, 只顯示前兩欄\n",
    "for line in data:\n",
    "    categoryNo = line.split(\",\")[0]\n",
    "    name = line.split(\",\")[1]\n",
    "    #country = line.split(\",\")[2]\n",
    "    print(categoryNo,name)"
   ]
  },
  {
   "cell_type": "code",
   "execution_count": 21,
   "metadata": {},
   "outputs": [
    {
     "name": "stdout",
     "output_type": "stream",
     "text": [
      "<class 'str'>\n",
      "貨品分類,中文貨名,英文貨名,國家,數量,數量單位,重量,重量單位,價值\n",
      "\n",
      "貨品分類,中文貨名,英文貨名,國家,數量,數量單位,重量,重量單位,價值\n",
      "3032300007,冷凍吳郭魚,\" Tilapias, frozen\",巴林,0,-   ,8000,KGM ,411\n",
      "3032300007,冷凍吳郭魚,\" Tilapias, frozen\",日本,0,-   ,10800,KGM ,696\n",
      "\n"
     ]
    }
   ],
   "source": [
    "f = open(\"sample.csv\", mode=\"r\",encoding=\"utf8\")\n",
    "\n",
    "## 一次讀入到指定範圍, 存成一個string\n",
    "#data = f.read(197)\n",
    "#print(data)\n",
    "#print(type(data))\n",
    "\n",
    "## 一次只讀一行 , 實務較少讀單行. 會應用在已知檔頭, 只想取資料看看\n",
    "data = f.readline()\n",
    "print(type(data))\n",
    "print(data)\n",
    "\n",
    "data = data + f.readline()  ## 讀第二行\n",
    "data += f.readline()        ## 讀第三行\n",
    "print(data)\n",
    "\n",
    "f.close()\n"
   ]
  },
  {
   "cell_type": "code",
   "execution_count": 28,
   "metadata": {},
   "outputs": [],
   "source": [
    "## 寫到檔案, 檔案覆蓋\n",
    "\n",
    "#f2 = open(\"test1.txt\", mode=\"w\")\n",
    "#f2.write(\"Hello World!\")\n",
    "#f2.write(\"Python test.\")\n",
    "#f2.write(\"~~~~~~~\")\n",
    "#f2.close()\n",
    "\n",
    "\n",
    "## 加入換行字元 : \\n\n",
    "#f2 = open(\"test1.txt\", mode=\"w\")\n",
    "#f2.write(\"Hello World!\")\n",
    "#f2.write(\"\\n\")\n",
    "#f2.write(\"Python test.\")\n",
    "#f2.write(\"\\n\")\n",
    "#f2.write(\"~~~~~~~\")\n",
    "#f2.write(\"\\n\")\n",
    "#f2.close()\n",
    "\n",
    "\n",
    "## 讀出list 寫到file\n",
    "\n",
    "\n",
    "words = [\n",
    "    \"frozen\",\n",
    "    \"This is a apple\",\n",
    "    \"test write file\",\n",
    "    \"今天週四\",\n",
    "    \"明天放假\",\n",
    "    \"太棒了\"\n",
    "]\n",
    "\n",
    "f2 = open(\"test1.txt\", mode=\"w\")\n",
    "\n",
    "for w in words:\n",
    "    f2.write(w + \"\\n\")\n",
    "    #f2.write(\"\\n\")\n",
    "f2.close()"
   ]
  },
  {
   "cell_type": "code",
   "execution_count": 31,
   "metadata": {},
   "outputs": [],
   "source": [
    "## append\n",
    "\n",
    "words = [\n",
    "    \"1.Avenger\",\n",
    "    \"2.每天下雨\",\n",
    "    \"3. Py---thon\",\n",
    "    \"4. 原萃綠茶\",\n",
    "    \"5. Anacoda\"\n",
    "]\n",
    "\n",
    "f3 = open(\"test2.txt\", mode=\"a\")\n",
    "\n",
    "for w in words:\n",
    "    f3.write(w + \"\\n\")\n",
    "\n",
    "f3.close()"
   ]
  },
  {
   "cell_type": "code",
   "execution_count": 42,
   "metadata": {},
   "outputs": [
    {
     "name": "stdout",
     "output_type": "stream",
     "text": [
      "Done!\n",
      "['貨品分類,中文貨名,英文貨名,國家,數量,數量單位,重量,重量單位,價值\\n', '3032300007,冷凍吳郭魚,\" Tilapias, frozen\",巴林,0,-   ,8000,KGM ,411\\n', '3032300007,冷凍吳郭魚,\" Tilapias, frozen\",日本,0,-   ,10800,KGM ,696\\n', '3032300007,冷凍吳郭魚,\" Tilapias, frozen\",加拿大,0,-   ,108631,KGM ,7365\\n', '3032300007,冷凍吳郭魚,\" Tilapias, frozen\",沙烏地阿拉伯,0,-   ,503000,KGM ,24919\\n', '3032300007,冷凍吳郭魚,\" Tilapias, frozen\",其他大洋洲國家,0,-   ,11695,KGM ,729\\n', '3032300007,冷凍吳郭魚,\" Tilapias, frozen\",阿拉伯聯合大公國,0,-   ,29000,KGM ,1274\\n', '3032300007,冷凍吳郭魚,\" Tilapias, frozen\",科威特,0,-   ,121536,KGM ,6128\\n', '3032300007,冷凍吳郭魚,\" Tilapias, frozen\",美國,0,-   ,749982,KGM ,46022\\n', '3032300007,冷凍吳郭魚,\" Tilapias, frozen\",香港,0,-   ,72,KGM ,2\\n', '3032300007,冷凍吳郭魚,\" Tilapias, frozen\",澳大利亞,0,-   ,69570,KGM ,4786\\n', '3032300007,冷凍吳郭魚,\" Tilapias, frozen\",關島,0,-   ,8618,KGM ,458\\n', '12019000104,黑豆，不論是否破碎,\" Black soybeans, whether or not broken\",加拿大,0,-   ,0,TNE ,43\\n', '12019000104,黑豆，不論是否破碎,\" Black soybeans, whether or not broken\",美國,0,-   ,0,TNE ,9\\n', '12019000104,黑豆，不論是否破碎,\" Black soybeans, whether or not broken\",菲律賓,0,-   ,0,TNE ,6\\n', '52114200005,牛仔布, Denim,中國大陸,11398,MTK ,1991,KGM ,902\\n', '52114200005,牛仔布, Denim,日本,14364,MTK ,3898,KGM ,1596\\n', '52114200005,牛仔布, Denim,印尼,21998,MTK ,3869,KGM ,1543\\n', '52114200005,牛仔布, Denim,印度,7212,MTK ,2185,KGM ,513\\n', '52114200005,牛仔布, Denim,柬埔寨,28081,MTK ,9915,KGM ,2469\\n', '52114200005,牛仔布, Denim,馬來西亞,8925,MTK ,3598,KGM ,575\\n', '52114200005,牛仔布, Denim,越南,139191,MTK ,53225,KGM ,12330\\n', '52114200005,牛仔布, Denim,賴索托,6894,MTK ,2771,KGM ,435']\n"
     ]
    }
   ],
   "source": [
    "## 簡化開檔語法, 使用 with ... as\n",
    "\n",
    "words = [\n",
    "    \"1.Avenger\",\n",
    "    \"2.每天下雨\",\n",
    "    \"3. Py---thon\",\n",
    "    \"4. 原萃鐵觀音\",\n",
    "    \"5. Anacoda\"\n",
    "]\n",
    "\n",
    "## with 寫檔\n",
    "## 如果有中文字 default encode 是 Big5\n",
    "with open(\"test3.txt\", mode=\"w\") as f4:\n",
    "    f4.write(\"encode in default(Big5) \\n\")\n",
    "    for w in words:\n",
    "        f4.write(w + \"\\n\")\n",
    "print(\"Done!\")\n",
    "\n",
    "## with 讀檔\n",
    "with open(\"sample.csv\", mode=\"r\", encoding=\"utf8\") as f5:\n",
    "    data2 = f5.readlines()\n",
    "print(data2)"
   ]
  },
  {
   "cell_type": "code",
   "execution_count": 45,
   "metadata": {},
   "outputs": [
    {
     "name": "stdout",
     "output_type": "stream",
     "text": [
      "Done!\n",
      "Done!\n"
     ]
    }
   ],
   "source": [
    "## encode issue\n",
    "## 如果有中文字 default encode 是 Big5\n",
    "## 請使用notepad++ 開起來看 encode\n",
    " \n",
    "words = [\n",
    "    \"1. Avenger Captain America\",\n",
    "    \"2.每天下雨abc\",\n",
    "    \"3. Py---thon\",\n",
    "    \"4. 原萃鐵觀音\",\n",
    "    \"5. Jupyter\"\n",
    "]\n",
    "\n",
    "\n",
    "## 有中文字, 强制指定encode 是 UTF8\n",
    "with open(\"test4.txt\", mode=\"w\", encoding=\"utf8\") as f6:\n",
    "    f6.write(\"encode in : UTF8 \\n\")\n",
    "    for i in words:\n",
    "        f6.write(i + \"\\n\")\n",
    "print(\"Done!\")\n",
    "\n",
    "\n",
    "## 沒有中文字, 預設encode 是 UTF8\n",
    "words = [ \"apple\",\"banan\",\"guava\" ]\n",
    "\n",
    "with open(\"test5.txt\", mode=\"w\") as f7:\n",
    "    f7.write(\"encode in default. \\n\")\n",
    "    for i in words:\n",
    "        f7.write(i + \"\\n\")\n",
    "print(\"Done!\")"
   ]
  },
  {
   "cell_type": "code",
   "execution_count": null,
   "metadata": {},
   "outputs": [],
   "source": []
  }
 ],
 "metadata": {
  "kernelspec": {
   "display_name": "Python 3",
   "language": "python",
   "name": "python3"
  },
  "language_info": {
   "codemirror_mode": {
    "name": "ipython",
    "version": 3
   },
   "file_extension": ".py",
   "mimetype": "text/x-python",
   "name": "python",
   "nbconvert_exporter": "python",
   "pygments_lexer": "ipython3",
   "version": "3.6.5"
  }
 },
 "nbformat": 4,
 "nbformat_minor": 2
}
